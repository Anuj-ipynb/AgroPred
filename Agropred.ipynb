{
  "nbformat": 4,
  "nbformat_minor": 0,
  "metadata": {
    "colab": {
      "provenance": [],
      "authorship_tag": "ABX9TyOhH0banwk+OR/rOWDjpbF1",
      "include_colab_link": true
    },
    "kernelspec": {
      "name": "python3",
      "display_name": "Python 3"
    },
    "language_info": {
      "name": "python"
    }
  },
  "cells": [
    {
      "cell_type": "markdown",
      "metadata": {
        "id": "view-in-github",
        "colab_type": "text"
      },
      "source": [
        "<a href=\"https://colab.research.google.com/github/Anuj-ipynb/AgroPred/blob/main/Agropred.ipynb\" target=\"_parent\"><img src=\"https://colab.research.google.com/assets/colab-badge.svg\" alt=\"Open In Colab\"/></a>"
      ]
    },
    {
      "cell_type": "markdown",
      "source": [
        "#Importing Libraries"
      ],
      "metadata": {
        "id": "pQ4xZ9iYw-np"
      }
    },
    {
      "cell_type": "code",
      "execution_count": null,
      "metadata": {
        "id": "qtbl4RxHw12F"
      },
      "outputs": [],
      "source": [
        "import pandas as pd\n",
        "import numpy as np\n",
        "import matplotlib.pyplot as plt\n",
        "import seaborn as sns\n",
        "from sklearn.model_selection import train_test_split, GridSearchCV, cross_val_score\n",
        "from sklearn.neighbors import KNeighborsClassifier\n",
        "from sklearn.svm import SVC\n",
        "from sklearn.ensemble import RandomForestClassifier, GradientBoostingClassifier\n",
        "from sklearn.metrics import accuracy_score, classification_report, confusion_matrix\n",
        "from sklearn.preprocessing import LabelEncoder, StandardScaler, OneHotEncoder\n",
        "from sklearn.pipeline import Pipeline\n",
        "from imblearn.over_sampling import SMOTE\n",
        "from sklearn.compose import ColumnTransformer"
      ]
    },
    {
      "cell_type": "markdown",
      "source": [
        "##Creating a DataFrame"
      ],
      "metadata": {
        "id": "X1G5qGYuxDt3"
      }
    },
    {
      "cell_type": "code",
      "source": [
        "np.random.seed(42)\n",
        "data = {\n",
        "'Harvest_ID': np.arange(1, 501),\n",
        "'Crop': np.random.choice(['Wheat', 'Corn', 'Soybean', 'Rice', 'Barley'], size=500),\n",
        "'Yield': np.random.uniform(1.5, 10.0, size=500),\n",
        "'Rainfall': np.random.uniform(0, 300, size=500),\n",
        "'Temperature': np.random.uniform(10, 35, size=500),\n",
        "'Harvest_Date': pd.date_range(start='2023-01-01', periods=500, freq='D'),\n",
        "'Region': np.random.choice(['North', 'South', 'East', 'West', 'Central'], size=500),\n",
        "'Pesticide_Usage': np.random.uniform(0, 1, size=500),\n",
        "'Soil_Quality': np.random.choice(['Low', 'Medium', 'High'], size=500)\n",
        "}\n",
        "df = pd.DataFrame(data)\n",
        "missing_samples = np.random.choice(df.index, size=int(0.1*len(df)), replace=False)\n",
        "df.loc[missing_samples, 'Rainfall'] = np.nan\n",
        "threshold = 5.0\n",
        "df['High_Yield'] = (df['Yield'] > threshold).astype(int)\n",
        "df['Rainfall'].fillna(df['Rainfall'].mean(), inplace=True)\n",
        "le_crop = LabelEncoder()\n",
        "le_region = LabelEncoder()\n",
        "le_soil_quality = LabelEncoder()\n",
        "df['Crop_encoded'] = le_crop.fit_transform(df['Crop'])\n",
        "df['Region_encoded'] = le_region.fit_transform(df['Region'])\n",
        "df['Soil_Quality_encoded'] = le_soil_quality.fit_transform(df['Soil_Quality'])\n",
        "df.head()"
      ],
      "metadata": {
        "colab": {
          "base_uri": "https://localhost:8080/",
          "height": 347
        },
        "id": "6JhyIvhpxEAF",
        "outputId": "8b29eec9-7afc-4b5c-806f-d170e717684f"
      },
      "execution_count": null,
      "outputs": [
        {
          "output_type": "stream",
          "name": "stderr",
          "text": [
            "<ipython-input-2-e97dad19c84e>:18: FutureWarning: A value is trying to be set on a copy of a DataFrame or Series through chained assignment using an inplace method.\n",
            "The behavior will change in pandas 3.0. This inplace method will never work because the intermediate object on which we are setting values always behaves as a copy.\n",
            "\n",
            "For example, when doing 'df[col].method(value, inplace=True)', try using 'df.method({col: value}, inplace=True)' or df[col] = df[col].method(value) instead, to perform the operation inplace on the original object.\n",
            "\n",
            "\n",
            "  df['Rainfall'].fillna(df['Rainfall'].mean(), inplace=True)\n"
          ]
        },
        {
          "output_type": "execute_result",
          "data": {
            "text/plain": [
              "   Harvest_ID     Crop     Yield    Rainfall  Temperature Harvest_Date Region  \\\n",
              "0           1     Rice  5.794645   54.430631    10.916786   2023-01-01  South   \n",
              "1           2   Barley  8.524888  174.912468    28.410050   2023-01-02  South   \n",
              "2           3  Soybean  4.220422  126.427365    26.595113   2023-01-03   West   \n",
              "3           4   Barley  9.111947  152.349953    21.865772   2023-01-04  North   \n",
              "4           5   Barley  4.808214  245.233069    31.104261   2023-01-05  North   \n",
              "\n",
              "   Pesticide_Usage Soil_Quality  High_Yield  Crop_encoded  Region_encoded  \\\n",
              "0         0.438538          Low           1             2               3   \n",
              "1         0.218510         High           1             0               3   \n",
              "2         0.396797          Low           0             3               4   \n",
              "3         0.044388       Medium           1             0               2   \n",
              "4         0.277822          Low           0             0               2   \n",
              "\n",
              "   Soil_Quality_encoded  \n",
              "0                     1  \n",
              "1                     0  \n",
              "2                     1  \n",
              "3                     2  \n",
              "4                     1  "
            ],
            "text/html": [
              "\n",
              "  <div id=\"df-368ec917-109f-4674-a8fe-885bfd21c13c\" class=\"colab-df-container\">\n",
              "    <div>\n",
              "<style scoped>\n",
              "    .dataframe tbody tr th:only-of-type {\n",
              "        vertical-align: middle;\n",
              "    }\n",
              "\n",
              "    .dataframe tbody tr th {\n",
              "        vertical-align: top;\n",
              "    }\n",
              "\n",
              "    .dataframe thead th {\n",
              "        text-align: right;\n",
              "    }\n",
              "</style>\n",
              "<table border=\"1\" class=\"dataframe\">\n",
              "  <thead>\n",
              "    <tr style=\"text-align: right;\">\n",
              "      <th></th>\n",
              "      <th>Harvest_ID</th>\n",
              "      <th>Crop</th>\n",
              "      <th>Yield</th>\n",
              "      <th>Rainfall</th>\n",
              "      <th>Temperature</th>\n",
              "      <th>Harvest_Date</th>\n",
              "      <th>Region</th>\n",
              "      <th>Pesticide_Usage</th>\n",
              "      <th>Soil_Quality</th>\n",
              "      <th>High_Yield</th>\n",
              "      <th>Crop_encoded</th>\n",
              "      <th>Region_encoded</th>\n",
              "      <th>Soil_Quality_encoded</th>\n",
              "    </tr>\n",
              "  </thead>\n",
              "  <tbody>\n",
              "    <tr>\n",
              "      <th>0</th>\n",
              "      <td>1</td>\n",
              "      <td>Rice</td>\n",
              "      <td>5.794645</td>\n",
              "      <td>54.430631</td>\n",
              "      <td>10.916786</td>\n",
              "      <td>2023-01-01</td>\n",
              "      <td>South</td>\n",
              "      <td>0.438538</td>\n",
              "      <td>Low</td>\n",
              "      <td>1</td>\n",
              "      <td>2</td>\n",
              "      <td>3</td>\n",
              "      <td>1</td>\n",
              "    </tr>\n",
              "    <tr>\n",
              "      <th>1</th>\n",
              "      <td>2</td>\n",
              "      <td>Barley</td>\n",
              "      <td>8.524888</td>\n",
              "      <td>174.912468</td>\n",
              "      <td>28.410050</td>\n",
              "      <td>2023-01-02</td>\n",
              "      <td>South</td>\n",
              "      <td>0.218510</td>\n",
              "      <td>High</td>\n",
              "      <td>1</td>\n",
              "      <td>0</td>\n",
              "      <td>3</td>\n",
              "      <td>0</td>\n",
              "    </tr>\n",
              "    <tr>\n",
              "      <th>2</th>\n",
              "      <td>3</td>\n",
              "      <td>Soybean</td>\n",
              "      <td>4.220422</td>\n",
              "      <td>126.427365</td>\n",
              "      <td>26.595113</td>\n",
              "      <td>2023-01-03</td>\n",
              "      <td>West</td>\n",
              "      <td>0.396797</td>\n",
              "      <td>Low</td>\n",
              "      <td>0</td>\n",
              "      <td>3</td>\n",
              "      <td>4</td>\n",
              "      <td>1</td>\n",
              "    </tr>\n",
              "    <tr>\n",
              "      <th>3</th>\n",
              "      <td>4</td>\n",
              "      <td>Barley</td>\n",
              "      <td>9.111947</td>\n",
              "      <td>152.349953</td>\n",
              "      <td>21.865772</td>\n",
              "      <td>2023-01-04</td>\n",
              "      <td>North</td>\n",
              "      <td>0.044388</td>\n",
              "      <td>Medium</td>\n",
              "      <td>1</td>\n",
              "      <td>0</td>\n",
              "      <td>2</td>\n",
              "      <td>2</td>\n",
              "    </tr>\n",
              "    <tr>\n",
              "      <th>4</th>\n",
              "      <td>5</td>\n",
              "      <td>Barley</td>\n",
              "      <td>4.808214</td>\n",
              "      <td>245.233069</td>\n",
              "      <td>31.104261</td>\n",
              "      <td>2023-01-05</td>\n",
              "      <td>North</td>\n",
              "      <td>0.277822</td>\n",
              "      <td>Low</td>\n",
              "      <td>0</td>\n",
              "      <td>0</td>\n",
              "      <td>2</td>\n",
              "      <td>1</td>\n",
              "    </tr>\n",
              "  </tbody>\n",
              "</table>\n",
              "</div>\n",
              "    <div class=\"colab-df-buttons\">\n",
              "\n",
              "  <div class=\"colab-df-container\">\n",
              "    <button class=\"colab-df-convert\" onclick=\"convertToInteractive('df-368ec917-109f-4674-a8fe-885bfd21c13c')\"\n",
              "            title=\"Convert this dataframe to an interactive table.\"\n",
              "            style=\"display:none;\">\n",
              "\n",
              "  <svg xmlns=\"http://www.w3.org/2000/svg\" height=\"24px\" viewBox=\"0 -960 960 960\">\n",
              "    <path d=\"M120-120v-720h720v720H120Zm60-500h600v-160H180v160Zm220 220h160v-160H400v160Zm0 220h160v-160H400v160ZM180-400h160v-160H180v160Zm440 0h160v-160H620v160ZM180-180h160v-160H180v160Zm440 0h160v-160H620v160Z\"/>\n",
              "  </svg>\n",
              "    </button>\n",
              "\n",
              "  <style>\n",
              "    .colab-df-container {\n",
              "      display:flex;\n",
              "      gap: 12px;\n",
              "    }\n",
              "\n",
              "    .colab-df-convert {\n",
              "      background-color: #E8F0FE;\n",
              "      border: none;\n",
              "      border-radius: 50%;\n",
              "      cursor: pointer;\n",
              "      display: none;\n",
              "      fill: #1967D2;\n",
              "      height: 32px;\n",
              "      padding: 0 0 0 0;\n",
              "      width: 32px;\n",
              "    }\n",
              "\n",
              "    .colab-df-convert:hover {\n",
              "      background-color: #E2EBFA;\n",
              "      box-shadow: 0px 1px 2px rgba(60, 64, 67, 0.3), 0px 1px 3px 1px rgba(60, 64, 67, 0.15);\n",
              "      fill: #174EA6;\n",
              "    }\n",
              "\n",
              "    .colab-df-buttons div {\n",
              "      margin-bottom: 4px;\n",
              "    }\n",
              "\n",
              "    [theme=dark] .colab-df-convert {\n",
              "      background-color: #3B4455;\n",
              "      fill: #D2E3FC;\n",
              "    }\n",
              "\n",
              "    [theme=dark] .colab-df-convert:hover {\n",
              "      background-color: #434B5C;\n",
              "      box-shadow: 0px 1px 3px 1px rgba(0, 0, 0, 0.15);\n",
              "      filter: drop-shadow(0px 1px 2px rgba(0, 0, 0, 0.3));\n",
              "      fill: #FFFFFF;\n",
              "    }\n",
              "  </style>\n",
              "\n",
              "    <script>\n",
              "      const buttonEl =\n",
              "        document.querySelector('#df-368ec917-109f-4674-a8fe-885bfd21c13c button.colab-df-convert');\n",
              "      buttonEl.style.display =\n",
              "        google.colab.kernel.accessAllowed ? 'block' : 'none';\n",
              "\n",
              "      async function convertToInteractive(key) {\n",
              "        const element = document.querySelector('#df-368ec917-109f-4674-a8fe-885bfd21c13c');\n",
              "        const dataTable =\n",
              "          await google.colab.kernel.invokeFunction('convertToInteractive',\n",
              "                                                    [key], {});\n",
              "        if (!dataTable) return;\n",
              "\n",
              "        const docLinkHtml = 'Like what you see? Visit the ' +\n",
              "          '<a target=\"_blank\" href=https://colab.research.google.com/notebooks/data_table.ipynb>data table notebook</a>'\n",
              "          + ' to learn more about interactive tables.';\n",
              "        element.innerHTML = '';\n",
              "        dataTable['output_type'] = 'display_data';\n",
              "        await google.colab.output.renderOutput(dataTable, element);\n",
              "        const docLink = document.createElement('div');\n",
              "        docLink.innerHTML = docLinkHtml;\n",
              "        element.appendChild(docLink);\n",
              "      }\n",
              "    </script>\n",
              "  </div>\n",
              "\n",
              "\n",
              "<div id=\"df-dc67963b-bdd0-4921-8ca2-678570263a8b\">\n",
              "  <button class=\"colab-df-quickchart\" onclick=\"quickchart('df-dc67963b-bdd0-4921-8ca2-678570263a8b')\"\n",
              "            title=\"Suggest charts\"\n",
              "            style=\"display:none;\">\n",
              "\n",
              "<svg xmlns=\"http://www.w3.org/2000/svg\" height=\"24px\"viewBox=\"0 0 24 24\"\n",
              "     width=\"24px\">\n",
              "    <g>\n",
              "        <path d=\"M19 3H5c-1.1 0-2 .9-2 2v14c0 1.1.9 2 2 2h14c1.1 0 2-.9 2-2V5c0-1.1-.9-2-2-2zM9 17H7v-7h2v7zm4 0h-2V7h2v10zm4 0h-2v-4h2v4z\"/>\n",
              "    </g>\n",
              "</svg>\n",
              "  </button>\n",
              "\n",
              "<style>\n",
              "  .colab-df-quickchart {\n",
              "      --bg-color: #E8F0FE;\n",
              "      --fill-color: #1967D2;\n",
              "      --hover-bg-color: #E2EBFA;\n",
              "      --hover-fill-color: #174EA6;\n",
              "      --disabled-fill-color: #AAA;\n",
              "      --disabled-bg-color: #DDD;\n",
              "  }\n",
              "\n",
              "  [theme=dark] .colab-df-quickchart {\n",
              "      --bg-color: #3B4455;\n",
              "      --fill-color: #D2E3FC;\n",
              "      --hover-bg-color: #434B5C;\n",
              "      --hover-fill-color: #FFFFFF;\n",
              "      --disabled-bg-color: #3B4455;\n",
              "      --disabled-fill-color: #666;\n",
              "  }\n",
              "\n",
              "  .colab-df-quickchart {\n",
              "    background-color: var(--bg-color);\n",
              "    border: none;\n",
              "    border-radius: 50%;\n",
              "    cursor: pointer;\n",
              "    display: none;\n",
              "    fill: var(--fill-color);\n",
              "    height: 32px;\n",
              "    padding: 0;\n",
              "    width: 32px;\n",
              "  }\n",
              "\n",
              "  .colab-df-quickchart:hover {\n",
              "    background-color: var(--hover-bg-color);\n",
              "    box-shadow: 0 1px 2px rgba(60, 64, 67, 0.3), 0 1px 3px 1px rgba(60, 64, 67, 0.15);\n",
              "    fill: var(--button-hover-fill-color);\n",
              "  }\n",
              "\n",
              "  .colab-df-quickchart-complete:disabled,\n",
              "  .colab-df-quickchart-complete:disabled:hover {\n",
              "    background-color: var(--disabled-bg-color);\n",
              "    fill: var(--disabled-fill-color);\n",
              "    box-shadow: none;\n",
              "  }\n",
              "\n",
              "  .colab-df-spinner {\n",
              "    border: 2px solid var(--fill-color);\n",
              "    border-color: transparent;\n",
              "    border-bottom-color: var(--fill-color);\n",
              "    animation:\n",
              "      spin 1s steps(1) infinite;\n",
              "  }\n",
              "\n",
              "  @keyframes spin {\n",
              "    0% {\n",
              "      border-color: transparent;\n",
              "      border-bottom-color: var(--fill-color);\n",
              "      border-left-color: var(--fill-color);\n",
              "    }\n",
              "    20% {\n",
              "      border-color: transparent;\n",
              "      border-left-color: var(--fill-color);\n",
              "      border-top-color: var(--fill-color);\n",
              "    }\n",
              "    30% {\n",
              "      border-color: transparent;\n",
              "      border-left-color: var(--fill-color);\n",
              "      border-top-color: var(--fill-color);\n",
              "      border-right-color: var(--fill-color);\n",
              "    }\n",
              "    40% {\n",
              "      border-color: transparent;\n",
              "      border-right-color: var(--fill-color);\n",
              "      border-top-color: var(--fill-color);\n",
              "    }\n",
              "    60% {\n",
              "      border-color: transparent;\n",
              "      border-right-color: var(--fill-color);\n",
              "    }\n",
              "    80% {\n",
              "      border-color: transparent;\n",
              "      border-right-color: var(--fill-color);\n",
              "      border-bottom-color: var(--fill-color);\n",
              "    }\n",
              "    90% {\n",
              "      border-color: transparent;\n",
              "      border-bottom-color: var(--fill-color);\n",
              "    }\n",
              "  }\n",
              "</style>\n",
              "\n",
              "  <script>\n",
              "    async function quickchart(key) {\n",
              "      const quickchartButtonEl =\n",
              "        document.querySelector('#' + key + ' button');\n",
              "      quickchartButtonEl.disabled = true;  // To prevent multiple clicks.\n",
              "      quickchartButtonEl.classList.add('colab-df-spinner');\n",
              "      try {\n",
              "        const charts = await google.colab.kernel.invokeFunction(\n",
              "            'suggestCharts', [key], {});\n",
              "      } catch (error) {\n",
              "        console.error('Error during call to suggestCharts:', error);\n",
              "      }\n",
              "      quickchartButtonEl.classList.remove('colab-df-spinner');\n",
              "      quickchartButtonEl.classList.add('colab-df-quickchart-complete');\n",
              "    }\n",
              "    (() => {\n",
              "      let quickchartButtonEl =\n",
              "        document.querySelector('#df-dc67963b-bdd0-4921-8ca2-678570263a8b button');\n",
              "      quickchartButtonEl.style.display =\n",
              "        google.colab.kernel.accessAllowed ? 'block' : 'none';\n",
              "    })();\n",
              "  </script>\n",
              "</div>\n",
              "\n",
              "    </div>\n",
              "  </div>\n"
            ],
            "application/vnd.google.colaboratory.intrinsic+json": {
              "type": "dataframe",
              "variable_name": "df",
              "summary": "{\n  \"name\": \"df\",\n  \"rows\": 500,\n  \"fields\": [\n    {\n      \"column\": \"Harvest_ID\",\n      \"properties\": {\n        \"dtype\": \"number\",\n        \"std\": 144,\n        \"min\": 1,\n        \"max\": 500,\n        \"num_unique_values\": 500,\n        \"samples\": [\n          362,\n          74,\n          375\n        ],\n        \"semantic_type\": \"\",\n        \"description\": \"\"\n      }\n    },\n    {\n      \"column\": \"Crop\",\n      \"properties\": {\n        \"dtype\": \"category\",\n        \"num_unique_values\": 5,\n        \"samples\": [\n          \"Barley\",\n          \"Wheat\",\n          \"Soybean\"\n        ],\n        \"semantic_type\": \"\",\n        \"description\": \"\"\n      }\n    },\n    {\n      \"column\": \"Yield\",\n      \"properties\": {\n        \"dtype\": \"number\",\n        \"std\": 2.4975662862556387,\n        \"min\": 1.5393721955391242,\n        \"max\": 9.99760022293211,\n        \"num_unique_values\": 500,\n        \"samples\": [\n          7.823543486867754,\n          9.940200767014053,\n          3.4486368594774524\n        ],\n        \"semantic_type\": \"\",\n        \"description\": \"\"\n      }\n    },\n    {\n      \"column\": \"Rainfall\",\n      \"properties\": {\n        \"dtype\": \"number\",\n        \"std\": 83.16146888120993,\n        \"min\": 1.915761515050074,\n        \"max\": 299.38023316000124,\n        \"num_unique_values\": 451,\n        \"samples\": [\n          63.93141120752499,\n          41.06568902064218,\n          11.885647604507144\n        ],\n        \"semantic_type\": \"\",\n        \"description\": \"\"\n      }\n    },\n    {\n      \"column\": \"Temperature\",\n      \"properties\": {\n        \"dtype\": \"number\",\n        \"std\": 7.25740843263649,\n        \"min\": 10.123499523360241,\n        \"max\": 34.985343144266665,\n        \"num_unique_values\": 500,\n        \"samples\": [\n          22.206028425544453,\n          26.689834639089618,\n          27.203367652163553\n        ],\n        \"semantic_type\": \"\",\n        \"description\": \"\"\n      }\n    },\n    {\n      \"column\": \"Harvest_Date\",\n      \"properties\": {\n        \"dtype\": \"date\",\n        \"min\": \"2023-01-01 00:00:00\",\n        \"max\": \"2024-05-14 00:00:00\",\n        \"num_unique_values\": 500,\n        \"samples\": [\n          \"2023-12-28 00:00:00\",\n          \"2023-03-15 00:00:00\",\n          \"2024-01-10 00:00:00\"\n        ],\n        \"semantic_type\": \"\",\n        \"description\": \"\"\n      }\n    },\n    {\n      \"column\": \"Region\",\n      \"properties\": {\n        \"dtype\": \"category\",\n        \"num_unique_values\": 5,\n        \"samples\": [\n          \"West\",\n          \"East\",\n          \"North\"\n        ],\n        \"semantic_type\": \"\",\n        \"description\": \"\"\n      }\n    },\n    {\n      \"column\": \"Pesticide_Usage\",\n      \"properties\": {\n        \"dtype\": \"number\",\n        \"std\": 0.2894985922196683,\n        \"min\": 0.002103843175883413,\n        \"max\": 0.999713804155914,\n        \"num_unique_values\": 500,\n        \"samples\": [\n          0.6477131710629215,\n          0.40389786417012374,\n          0.08534133648432485\n        ],\n        \"semantic_type\": \"\",\n        \"description\": \"\"\n      }\n    },\n    {\n      \"column\": \"Soil_Quality\",\n      \"properties\": {\n        \"dtype\": \"category\",\n        \"num_unique_values\": 3,\n        \"samples\": [\n          \"Low\",\n          \"High\",\n          \"Medium\"\n        ],\n        \"semantic_type\": \"\",\n        \"description\": \"\"\n      }\n    },\n    {\n      \"column\": \"High_Yield\",\n      \"properties\": {\n        \"dtype\": \"number\",\n        \"std\": 0,\n        \"min\": 0,\n        \"max\": 1,\n        \"num_unique_values\": 2,\n        \"samples\": [\n          0,\n          1\n        ],\n        \"semantic_type\": \"\",\n        \"description\": \"\"\n      }\n    },\n    {\n      \"column\": \"Crop_encoded\",\n      \"properties\": {\n        \"dtype\": \"number\",\n        \"std\": 1,\n        \"min\": 0,\n        \"max\": 4,\n        \"num_unique_values\": 5,\n        \"samples\": [\n          0,\n          4\n        ],\n        \"semantic_type\": \"\",\n        \"description\": \"\"\n      }\n    },\n    {\n      \"column\": \"Region_encoded\",\n      \"properties\": {\n        \"dtype\": \"number\",\n        \"std\": 1,\n        \"min\": 0,\n        \"max\": 4,\n        \"num_unique_values\": 5,\n        \"samples\": [\n          4,\n          1\n        ],\n        \"semantic_type\": \"\",\n        \"description\": \"\"\n      }\n    },\n    {\n      \"column\": \"Soil_Quality_encoded\",\n      \"properties\": {\n        \"dtype\": \"number\",\n        \"std\": 0,\n        \"min\": 0,\n        \"max\": 2,\n        \"num_unique_values\": 3,\n        \"samples\": [\n          1,\n          0\n        ],\n        \"semantic_type\": \"\",\n        \"description\": \"\"\n      }\n    }\n  ]\n}"
            }
          },
          "metadata": {},
          "execution_count": 2
        }
      ]
    },
    {
      "cell_type": "markdown",
      "source": [
        "##Training and Splitting Data"
      ],
      "metadata": {
        "id": "H51kyUEHxEy9"
      }
    },
    {
      "cell_type": "code",
      "source": [
        "X = df[['Yield', 'Rainfall', 'Temperature', 'Pesticide_Usage', 'Crop_encoded', 'Region_encoded', 'Soil_Quality_encoded']]\n",
        "y = df['High_Yield']\n",
        "smote = SMOTE(random_state=42)\n",
        "X_resampled, y_resampled = smote.fit_resample(X, y)\n",
        "X_train, X_test, y_train, y_test = train_test_split(X_resampled, y_resampled, test_size=0.2, random_state=42)"
      ],
      "metadata": {
        "id": "5CSsEKPCxFHE"
      },
      "execution_count": null,
      "outputs": []
    },
    {
      "cell_type": "markdown",
      "source": [
        "#Hyperparameter Tuning"
      ],
      "metadata": {
        "id": "DB2QdbPixFWq"
      }
    },
    {
      "cell_type": "code",
      "source": [
        "pipeline = Pipeline([\n",
        "('scaler', StandardScaler()),\n",
        "('classifier', KNeighborsClassifier())\n",
        "])\n",
        "param_grid = [\n",
        "{\n",
        "'classifier': [KNeighborsClassifier()],\n",
        "'classifier__n_neighbors': [3, 5, 7],\n",
        "},\n",
        "{\n",
        "'classifier': [SVC()],\n",
        "'classifier__C': [0.1, 1, 10],\n",
        "'classifier__kernel': ['linear', 'rbf'],\n",
        "},\n",
        "{\n",
        "'classifier': [RandomForestClassifier()],\n",
        "'classifier__n_estimators': [50, 100, 200]\n",
        "},\n",
        "{\n",
        "'classifier': [GradientBoostingClassifier()],\n",
        "'classifier__n_estimators': [50, 100, 200]\n",
        "}\n",
        "]\n",
        "grid_search = GridSearchCV(pipeline, param_grid, cv=5, n_jobs=-1, verbose=2)\n",
        "grid_search.fit(X_train, y_train)\n",
        "best_model = grid_search.best_estimator_"
      ],
      "metadata": {
        "colab": {
          "base_uri": "https://localhost:8080/"
        },
        "id": "laGrQM68xFms",
        "outputId": "4d2ccf31-fdac-48fb-9027-5fdfb3b8172f"
      },
      "execution_count": null,
      "outputs": [
        {
          "output_type": "stream",
          "name": "stdout",
          "text": [
            "Fitting 5 folds for each of 15 candidates, totalling 75 fits\n"
          ]
        }
      ]
    },
    {
      "cell_type": "markdown",
      "source": [
        "##Model Prediction after Model Selection"
      ],
      "metadata": {
        "id": "3XG2BPHyxF5a"
      }
    },
    {
      "cell_type": "code",
      "source": [
        "y_pred = best_model.predict(X_test)\n",
        "print(f\"Best Model: {grid_search.best_params_}\")\n",
        "print(\"Model Accuracy:\", accuracy_score(y_test, y_pred))\n",
        "print(\"\\nClassification Report:\\n\", classification_report(y_test, y_pred))"
      ],
      "metadata": {
        "colab": {
          "base_uri": "https://localhost:8080/"
        },
        "id": "0BYbqVR9xGJe",
        "outputId": "cac56376-79d1-4593-acbb-30a7b8653354"
      },
      "execution_count": null,
      "outputs": [
        {
          "output_type": "stream",
          "name": "stdout",
          "text": [
            "Best Model: {'classifier': RandomForestClassifier(), 'classifier__n_estimators': 200}\n",
            "Model Accuracy: 0.9912280701754386\n",
            "\n",
            "Classification Report:\n",
            "               precision    recall  f1-score   support\n",
            "\n",
            "           0       1.00      0.98      0.99        59\n",
            "           1       0.98      1.00      0.99        55\n",
            "\n",
            "    accuracy                           0.99       114\n",
            "   macro avg       0.99      0.99      0.99       114\n",
            "weighted avg       0.99      0.99      0.99       114\n",
            "\n"
          ]
        }
      ]
    },
    {
      "cell_type": "markdown",
      "source": [
        "##Plotting the Confusion Matrix"
      ],
      "metadata": {
        "id": "fcaxRtVDxGZy"
      }
    },
    {
      "cell_type": "code",
      "source": [
        "plt.figure(figsize=(7, 5))\n",
        "sns.heatmap(confusion_matrix(y_test, y_pred), annot=True, fmt='d', cmap='Blues')\n",
        "plt.title('Confusion Matrix')\n",
        "plt.show()"
      ],
      "metadata": {
        "colab": {
          "base_uri": "https://localhost:8080/",
          "height": 468
        },
        "id": "DYRqioz7xGn7",
        "outputId": "fb067a52-86b8-4662-9c44-8c96214ac066"
      },
      "execution_count": null,
      "outputs": [
        {
          "output_type": "display_data",
          "data": {
            "text/plain": [
              "<Figure size 700x500 with 2 Axes>"
            ],
            "image/png": "[encoded data removed]"
          },
          "metadata": {}
        }
      ]
    },
    {
      "cell_type": "markdown",
      "source": [
        "##Printing Cross Validation Results"
      ],
      "metadata": {
        "id": "wtTfbg86yA0L"
      }
    },
    {
      "cell_type": "code",
      "source": [
        "cv_scores = cross_val_score(best_model, X, y, cv=5)\n",
        "print(\"Cross-validation scores: \", cv_scores)\n",
        "print(\"Mean CV score: \", np.mean(cv_scores))"
      ],
      "metadata": {
        "colab": {
          "base_uri": "https://localhost:8080/"
        },
        "id": "JlRXK8v4yCj4",
        "outputId": "58d011be-baef-4aa0-b09b-293d329c3551"
      },
      "execution_count": null,
      "outputs": [
        {
          "output_type": "stream",
          "name": "stdout",
          "text": [
            "Cross-validation scores:  [1.   1.   0.99 0.99 1.  ]\n",
            "Mean CV score:  0.9960000000000001\n"
          ]
        }
      ]
    },
    {
      "cell_type": "markdown",
      "source": [
        "##Model Selection and Basic Classification"
      ],
      "metadata": {
        "id": "Tk3FrLFqyKHK"
      }
    },
    {
      "cell_type": "code",
      "source": [
        "if isinstance(best_model.named_steps['classifier'], (RandomForestClassifier, GradientBoostingClassifier)):\n",
        "  feature_importances = best_model.named_steps['classifier'].feature_importances_\n",
        "  feature_names = X.columns\n",
        "  sorted_idx = np.argsort(feature_importances)"
      ],
      "metadata": {
        "id": "nRFEtl9cyKUW"
      },
      "execution_count": null,
      "outputs": []
    },
    {
      "cell_type": "markdown",
      "source": [
        "##Visualising the results"
      ],
      "metadata": {
        "id": "3ZlNcUNUy_uq"
      }
    },
    {
      "cell_type": "code",
      "source": [
        "plt.figure(figsize=(10, 6))\n",
        "plt.barh(feature_names[sorted_idx], feature_importances[sorted_idx])\n",
        "plt.title('Feature Importance')\n",
        "plt.show()"
      ],
      "metadata": {
        "colab": {
          "base_uri": "https://localhost:8080/",
          "height": 545
        },
        "id": "eFNzqUUFy_9x",
        "outputId": "b339dd94-b82f-484f-efed-94c0186ba023"
      },
      "execution_count": null,
      "outputs": [
        {
          "output_type": "display_data",
          "data": {
            "text/plain": [
              "<Figure size 1000x600 with 1 Axes>"
            ],
            "image/png": "[encoded data removed]"
          },
          "metadata": {}
        }
      ]
    }
  ]
}